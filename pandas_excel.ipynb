{
 "cells": [
  {
   "cell_type": "code",
   "execution_count": null,
   "metadata": {},
   "outputs": [],
   "source": [
    "import pandas as pd\n",
    "\n",
    "# Ler o Excel e armazena-lo em uma variável \n",
    "tabela = pd.read_excel(\"Produtos.xlsx\")\n",
    "\n",
    "# Atualizar o multiplicador\n",
    "tabela.loc[tabela[\"Tipo\"] == \"Serviço\", \"Multiplicador Imposto\"] = 1.5\n",
    "\n",
    "# Calcular a coluna Preço Base Reais\n",
    "tabela[\"Preço Base Reais\"] == tabela[\"Multiplicador Imposto\"] * tabela[\"Preço Base Original\"]\n",
    "\n",
    "# Exportar a nova tabela para um arquivo excel\n",
    "tabela.to_excel(\"ProdutosPandas.xlxs\")"
   ]
  }
 ],
 "metadata": {
  "kernelspec": {
   "display_name": "Python 3",
   "language": "python",
   "name": "python3"
  },
  "language_info": {
   "codemirror_mode": {
    "name": "ipython",
    "version": 3
   },
   "file_extension": ".py",
   "mimetype": "text/x-python",
   "name": "python",
   "nbconvert_exporter": "python",
   "pygments_lexer": "ipython3",
   "version": "3.12.2"
  }
 },
 "nbformat": 4,
 "nbformat_minor": 2
}
